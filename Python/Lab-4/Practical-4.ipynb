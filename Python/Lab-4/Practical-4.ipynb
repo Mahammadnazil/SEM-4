{
 "cells": [
  {
   "cell_type": "markdown",
   "metadata": {},
   "source": [
    "# 4.1 - WAP to find length of given string without using len function."
   ]
  },
  {
   "cell_type": "code",
   "execution_count": 2,
   "metadata": {},
   "outputs": [
    {
     "name": "stdout",
     "output_type": "stream",
     "text": [
      "Enter the value of n : bhavin\n",
      "count is :-- 6\n"
     ]
    }
   ],
   "source": [
    "n=input(\"Enter the value of n : \")\n",
    "count=0\n",
    "for i in n:\n",
    "    count +=1\n",
    "print (\"count is :--\",count) "
   ]
  },
  {
   "cell_type": "markdown",
   "metadata": {},
   "source": [
    "# 4.2 - WAP to remove ith charater from given string.\n"
   ]
  },
  {
   "cell_type": "markdown",
   "metadata": {},
   "source": [
    "# (Using slice() Function.)"
   ]
  },
  {
   "cell_type": "code",
   "execution_count": 16,
   "metadata": {},
   "outputs": [
    {
     "name": "stdout",
     "output_type": "stream",
     "text": [
      "Enter the String : Bhaavin\n",
      "Enter remove element index : 3\n",
      "Bhavin\n"
     ]
    }
   ],
   "source": [
    "n=input(\"Enter the String : \")\n",
    "a=int(input(\"Enter remove element index : \"))\n",
    "b=n[0:a]\n",
    "c=n[a+1:]\n",
    "print(b+c)\n"
   ]
  },
  {
   "cell_type": "markdown",
   "metadata": {},
   "source": [
    "# 4.3 - WAP to Count 'R' in this string \"DARSHAN UNIVERSITY\"."
   ]
  },
  {
   "cell_type": "code",
   "execution_count": 20,
   "metadata": {},
   "outputs": [
    {
     "name": "stdout",
     "output_type": "stream",
     "text": [
      "Number of R is: 2\n"
     ]
    }
   ],
   "source": [
    "a = \"DARSHAN UNIVERSITY\"\n",
    "print(\"Number of R is:\",a.count('R'))#\"DARSHAN UNIVERSITY\".count('R')"
   ]
  },
  {
   "cell_type": "markdown",
   "metadata": {},
   "source": [
    "# 4.4 - WAP to Count number of vowel in a given string."
   ]
  },
  {
   "cell_type": "code",
   "execution_count": 28,
   "metadata": {},
   "outputs": [
    {
     "name": "stdout",
     "output_type": "stream",
     "text": [
      "Enter your string:hello\n",
      "Number of vowel is: 2\n"
     ]
    }
   ],
   "source": [
    "n = input(\"Enter your string:\")\n",
    "#vowel = \"AEIOUaeiou\"\n",
    "count = 0\n",
    "\n",
    "for i in n:\n",
    "    if( i=='a'or i=='A'or i=='E'or i=='I'or i=='O'or i=='U'or i=='e'or i=='i'or i=='o'or i=='u'):\n",
    "        count +=  1\n",
    "print(\"Number of vowel is:\", count)\n",
    "\n",
    "str1 = input(\"Enter your string:\")\n",
    "list_W = str1.split(\" \")\n",
    "\n",
    "for i in list_W:\n",
    "    length =  len(i)\n",
    "    \n",
    "    if length%2==0:\n",
    "        print(i)\n",
    "        \n"
   ]
  },
  {
   "cell_type": "markdown",
   "metadata": {},
   "source": [
    "# 4.5 - WAP to print even length words of string."
   ]
  },
  {
   "cell_type": "code",
   "execution_count": 31,
   "metadata": {},
   "outputs": [
    {
     "name": "stdout",
     "output_type": "stream",
     "text": [
      "Enter your string : WAP to print even length words of string\n",
      "to\n",
      "even\n",
      "length\n",
      "of\n",
      "string\n"
     ]
    }
   ],
   "source": [
    "a=input(\"Enter your string : \")\n",
    "b=a.split(\" \")\n",
    "\n",
    "for i in b: \n",
    "    if len(i) % 2 == 0:\n",
    "        print(i)\n"
   ]
  },
  {
   "cell_type": "markdown",
   "metadata": {},
   "source": [
    "# 4.6 - WAP to check whether given string is palidrom or not"
   ]
  },
  {
   "cell_type": "code",
   "execution_count": null,
   "metadata": {},
   "outputs": [],
   "source": [
    "string1 = input(\"Enter a string\")\n",
    "if string1 == string1[::-1]:\n",
    "    print(\"the given string is palindrome\")\n",
    "else :\n",
    "    print('the given string is not palindrome')"
   ]
  },
  {
   "cell_type": "markdown",
   "metadata": {},
   "source": [
    "# 4.7 - WAP to do string slicing from left rotate and right rotate the given string by d elements.(where d<=n)"
   ]
  },
  {
   "cell_type": "code",
   "execution_count": null,
   "metadata": {},
   "outputs": [],
   "source": []
  },
  {
   "cell_type": "markdown",
   "metadata": {},
   "source": [
    "# 4.8 - WAP to reverse the words in given string."
   ]
  },
  {
   "cell_type": "code",
   "execution_count": null,
   "metadata": {},
   "outputs": [],
   "source": [
    "string1 = input(\"Enter a string\")\n",
    "print( \"Reverse string : \",string1[::-1])"
   ]
  }
 ],
 "metadata": {
  "kernelspec": {
   "display_name": "Python 3",
   "language": "python",
   "name": "python3"
  },
  "language_info": {
   "codemirror_mode": {
    "name": "ipython",
    "version": 3
   },
   "file_extension": ".py",
   "mimetype": "text/x-python",
   "name": "python",
   "nbconvert_exporter": "python",
   "pygments_lexer": "ipython3",
   "version": "3.8.10"
  }
 },
 "nbformat": 4,
 "nbformat_minor": 4
}
