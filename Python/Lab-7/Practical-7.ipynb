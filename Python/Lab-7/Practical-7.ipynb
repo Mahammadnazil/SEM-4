{
 "cells": [
  {
   "cell_type": "markdown",
   "metadata": {},
   "source": [
    "# 7.1 - WAP to crate a set using list of elements and size."
   ]
  },
  {
   "cell_type": "code",
   "execution_count": 3,
   "metadata": {},
   "outputs": [
    {
     "name": "stdout",
     "output_type": "stream",
     "text": [
      "Enter size of n ::5\n",
      "Enter Elements Hear::1\n",
      "Enter Elements Hear::2\n",
      "Enter Elements Hear::3\n",
      "Enter Elements Hear::4\n",
      "Enter Elements Hear::5\n",
      "Set is :: {1, 2, 3, 4, 5}\n",
      "Element Size is :: 5\n"
     ]
    }
   ],
   "source": [
    "n=int(input(\"Enter size of n ::\"))\n",
    "l=[]\n",
    "for i in range(n):\n",
    "    l.append(int(input(\"Enter Elements Hear::\")))\n",
    "s=set(l)\n",
    "print(\"Set is ::\",s)\n",
    "lenght=len(s)\n",
    "print(\"Element Size is ::\",lenght)"
   ]
  },
  {
   "cell_type": "markdown",
   "metadata": {},
   "source": [
    "# 7.2 - WAP to Find Maximum and minimum elements from set."
   ]
  },
  {
   "cell_type": "code",
   "execution_count": 14,
   "metadata": {},
   "outputs": [
    {
     "name": "stdout",
     "output_type": "stream",
     "text": [
      "Enter size of n ::5\n",
      "Enter Elements Hear::1\n",
      "Enter Elements Hear::2\n",
      "Enter Elements Hear::3\n",
      "Enter Elements Hear::4\n",
      "Enter Elements Hear::5\n",
      "Max Element is:: 5\n",
      "Min Element is:: 1\n"
     ]
    }
   ],
   "source": [
    "n=int(input(\"Enter size of n ::\"))\n",
    "l=[]\n",
    "for i in range(n):\n",
    "    l.append(int(input(\"Enter Elements Hear::\")))\n",
    "s=set(l)\n",
    "print(\"Max Element is::\",max(s))\n",
    "print(\"Min Element is::\",min(s))"
   ]
  },
  {
   "cell_type": "markdown",
   "metadata": {},
   "source": [
    "# 7.3 - WAP to remove an element from a set given by user."
   ]
  },
  {
   "cell_type": "code",
   "execution_count": 18,
   "metadata": {},
   "outputs": [
    {
     "name": "stdout",
     "output_type": "stream",
     "text": [
      "Enter size of n ::5\n",
      "Enter Elements Hear::1\n",
      "Enter Elements Hear::2\n",
      "Enter Elements Hear::3\n",
      "Enter Elements Hear::4\n",
      "Enter Elements Hear::5\n",
      "Enter Removed Element ::6\n",
      "After Removing Element :: {1, 2, 3, 4, 5}\n"
     ]
    }
   ],
   "source": [
    "n=int(input(\"Enter size of n ::\"))\n",
    "l=[]\n",
    "for i in range(n):\n",
    "    l.append(int(input(\"Enter Elements Hear::\")))\n",
    "s=set(l)\n",
    "a=int(input(\"Enter Removed Element ::\"))\n",
    "if a in s: \n",
    "    s.remove(a)\n",
    "print(\"After Removing Element ::\",s)"
   ]
  },
  {
   "cell_type": "markdown",
   "metadata": {},
   "source": [
    "# 7.4 - WAP to conver given set into tuple and into list both."
   ]
  },
  {
   "cell_type": "code",
   "execution_count": 11,
   "metadata": {},
   "outputs": [
    {
     "name": "stdout",
     "output_type": "stream",
     "text": [
      "Enter size:5\n",
      "Enter Value:1\n",
      "Enter Value:2\n",
      "Enter Value:3\n",
      "Enter Value:4\n",
      "Enter Value:5\n",
      "List is :: [1, 2, 3, 4, 5]\n",
      "Tuple is :: (1, 2, 3, 4, 5)\n",
      "Set is :: {1, 2, 3, 4, 5}\n"
     ]
    }
   ],
   "source": [
    "n = int(input(\"Enter size:\"))\n",
    "s=set()\n",
    "for i in range(n):\n",
    "    s.add(int(input(\"Enter Value:\")))\n",
    "l = list(s)\n",
    "t = tuple(s)\n",
    "print(\"List is ::\",l)\n",
    "print(\"Tuple is ::\",t)\n",
    "print(\"Set is ::\",s)"
   ]
  },
  {
   "cell_type": "markdown",
   "metadata": {},
   "source": [
    "# 7.5 - WAP to perform union,intersection,difference and\n",
    "# symmetric difference operation in given two sets."
   ]
  },
  {
   "cell_type": "code",
   "execution_count": 17,
   "metadata": {},
   "outputs": [
    {
     "name": "stdout",
     "output_type": "stream",
     "text": [
      "Enter size of first:5\n",
      "Enter size of Second:3\n",
      "Enter Value for set1:1\n",
      "Enter Value for set1:2\n",
      "Enter Value for set1:3\n",
      "Enter Value for set1:4\n",
      "Enter Value for set1:5\n",
      "Enter Value for set2:1\n",
      "Enter Value for set2:2\n",
      "Enter Value for set2:3\n",
      "Union is :: {1, 2, 3, 4, 5}\n",
      "Intersection is :: {1, 2, 3}\n",
      "Difference is :: {4, 5}\n",
      "Symmetric difference is :: {4, 5}\n"
     ]
    }
   ],
   "source": [
    "n1 = int(input(\"Enter size of first:\"))\n",
    "n2 = int(input(\"Enter size of Second:\"))\n",
    "a = set()\n",
    "b = set()\n",
    "\n",
    "for i in range(n1):\n",
    "    a.add(int(input(\"Enter Value for set1:\")))\n",
    "\n",
    "for i in range(n2):\n",
    "    b.add(int(input(\"Enter Value for set2:\")))\n",
    "    \n",
    "print(\"Union is ::\", a | b) \n",
    "print(\"Intersection is ::\", a & b) \n",
    "print(\"Difference is ::\", a - b) \n",
    "print(\"Symmetric difference is ::\", a ^ b) "
   ]
  },
  {
   "cell_type": "code",
   "execution_count": null,
   "metadata": {},
   "outputs": [],
   "source": []
  },
  {
   "cell_type": "code",
   "execution_count": null,
   "metadata": {},
   "outputs": [],
   "source": []
  }
 ],
 "metadata": {
  "kernelspec": {
   "display_name": "Python 3",
   "language": "python",
   "name": "python3"
  },
  "language_info": {
   "codemirror_mode": {
    "name": "ipython",
    "version": 3
   },
   "file_extension": ".py",
   "mimetype": "text/x-python",
   "name": "python",
   "nbconvert_exporter": "python",
   "pygments_lexer": "ipython3",
   "version": "3.8.10"
  }
 },
 "nbformat": 4,
 "nbformat_minor": 4
}
