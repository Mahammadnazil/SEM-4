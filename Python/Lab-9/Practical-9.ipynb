{
 "cells": [
  {
   "cell_type": "markdown",
   "metadata": {},
   "source": [
    "# 9.1 - WAP to calculate simple intrest using function."
   ]
  },
  {
   "cell_type": "code",
   "execution_count": 2,
   "metadata": {},
   "outputs": [
    {
     "name": "stdout",
     "output_type": "stream",
     "text": [
      "Answer is : 10.0\n"
     ]
    }
   ],
   "source": [
    "def SI(p,r,t):\n",
    "    si = (p * r * t)/100\n",
    "    return si\n",
    "p=int(input(\"Enter P:\"))\n",
    "r=int(input(\"Enter R:\"))\n",
    "t=int(input(\"Enter T:\"))\n",
    "print(\"Answer is :\",SI(p,r,t))"
   ]
  },
  {
   "cell_type": "markdown",
   "metadata": {},
   "source": [
    "# 9.2 - WAP that defines a function to add first N numbers. "
   ]
  },
  {
   "cell_type": "code",
   "execution_count": 10,
   "metadata": {},
   "outputs": [
    {
     "name": "stdout",
     "output_type": "stream",
     "text": [
      "Ans is ::  15\n"
     ]
    }
   ],
   "source": [
    "# 2) WAP That defines a function to add first n numbers.\n",
    "\n",
    "def addn(n):\n",
    "    sumn = 0\n",
    "    for i in range(n+1):\n",
    "        sumn = sumn + i\n",
    "    return sumn\n",
    "    \n",
    "n = int(input(\"Enter n: \"))\n",
    "\n",
    "print(\"Ans is :: \",addn(n))"
   ]
  },
  {
   "cell_type": "markdown",
   "metadata": {},
   "source": [
    "# 9.3 - WAP to find the maximum number from two given numbers"
   ]
  },
  {
   "cell_type": "code",
   "execution_count": 13,
   "metadata": {},
   "outputs": [
    {
     "name": "stdout",
     "output_type": "stream",
     "text": [
      "The maximum number is :  20\n"
     ]
    }
   ],
   "source": [
    "a = int(input(\"Enter the first number: \"))\n",
    "b = int(input(\"Enter the second number: \"))\n",
    "maximum = max(a, b)\n",
    "print(\"The maximum number is : \",maximum)\n",
    "\n",
    "\n",
    "#Enter the first number: 10\n",
    "#Enter the second number: 25\n",
    "#The maximum number is: 25\n",
    "\n",
    "# def mxmi(a,b):\n",
    "#     if a>b:\n",
    "#         return a\n",
    "#     else:\n",
    "#         return b\n",
    "# n1 = int(input(\"Enter first num: \"))\n",
    "# n2 = int(input(\"Enter second num: \"))\n",
    "# print(\"The maximum number is:\",mxmi(n1, n2))"
   ]
  },
  {
   "cell_type": "markdown",
   "metadata": {},
   "source": [
    "# 9.4 - WAP to take a string from the user and pass it as an argument and convert all  lowercase characters into uppercase using a function."
   ]
  },
  {
   "cell_type": "code",
   "execution_count": 14,
   "metadata": {},
   "outputs": [
    {
     "name": "stdout",
     "output_type": "stream",
     "text": [
      "String in uppercase: HELLO WORLD\n"
     ]
    }
   ],
   "source": [
    "def to_upper(s):  \n",
    "    return s.upper()  \n",
    "\n",
    "n = input(\"Enter a string: \")  \n",
    "print(\"String in uppercase:\", to_upper(n))  \n",
    "\n",
    "#Enter a string: Hello World\n",
    "#String in uppercase: HELLO WORLD\n"
   ]
  },
  {
   "cell_type": "markdown",
   "metadata": {},
   "source": [
    "# 9.5 -WAP to find factoraial of given number using function."
   ]
  },
  {
   "cell_type": "code",
   "execution_count": 17,
   "metadata": {},
   "outputs": [
    {
     "name": "stdout",
     "output_type": "stream",
     "text": [
      "factoraial is ::  120\n"
     ]
    }
   ],
   "source": [
    "\n",
    "def fact(n):\n",
    "    fact = 1\n",
    "    for i in range(1, n+1):\n",
    "        fact = fact * i\n",
    "    return fact\n",
    "n = int(input(\"Enter n: \"))\n",
    "print(\"factoraial is :: \",fact(n))\n",
    "     \n"
   ]
  },
  {
   "cell_type": "markdown",
   "metadata": {},
   "source": [
    "# 9.6 - WAP to genrate fibonaci series using a function."
   ]
  },
  {
   "cell_type": "code",
   "execution_count": 23,
   "metadata": {},
   "outputs": [
    {
     "name": "stdout",
     "output_type": "stream",
     "text": [
      "0\n",
      "1\n",
      "1\n",
      "2\n",
      "3\n"
     ]
    }
   ],
   "source": [
    "def fibo(n):\n",
    "    a = 0\n",
    "    b = 1\n",
    "    temp = 0\n",
    "    for i in range(n):\n",
    "        print(temp)\n",
    "        a = b\n",
    "        b = temp\n",
    "        temp = a + b\n",
    "        \n",
    "n = int(input(\"Enter n: \"))\n",
    "fibo(n)"
   ]
  },
  {
   "cell_type": "markdown",
   "metadata": {},
   "source": [
    "# 9.7 - WAP to impliment a simple calculater using lambda function."
   ]
  },
  {
   "cell_type": "code",
   "execution_count": 26,
   "metadata": {},
   "outputs": [
    {
     "name": "stdout",
     "output_type": "stream",
     "text": [
      "Ans is :: 30\n"
     ]
    }
   ],
   "source": [
    "calc = lambda a, exp, b: a+b if(exp == \"+\") else a-b if (exp ==\"-\") else a*b if(exp == \"*\") else a/b if(exp == \"/\") else \"Enter valid exp\"\n",
    "\n",
    "a = int(input(\"Enter a ::\"))\n",
    "b = int(input(\"Enter b ::\"))\n",
    "exp = input(\"Enter exp (+,-,*,/) :: \")\n",
    "print(\"Ans is ::\", calc(a,exp, b))\n"
   ]
  },
  {
   "cell_type": "markdown",
   "metadata": {},
   "source": [
    "# 9.8 - WAP to that defined a function that return 1 if the number is prime oterwise return 0."
   ]
  },
  {
   "cell_type": "code",
   "execution_count": 30,
   "metadata": {},
   "outputs": [
    {
     "name": "stdout",
     "output_type": "stream",
     "text": [
      "Return is: 0\n"
     ]
    }
   ],
   "source": [
    "def is_prime(n):\n",
    "    if n <= 1:\n",
    "        return 0\n",
    "    for i in range(2, n):\n",
    "        if n % i == 0:\n",
    "            return 0 \n",
    "    return 1  \n",
    "num = int(input(\"Enter a number: \"))\n",
    "print(\"Return is:\",is_prime(num))\n",
    "# Enter a number:10\n",
    "# Return is: 0"
   ]
  },
  {
   "cell_type": "markdown",
   "metadata": {},
   "source": [
    "# 9.9 - WAP to find a factorial of given number using recursion."
   ]
  },
  {
   "cell_type": "code",
   "execution_count": 31,
   "metadata": {},
   "outputs": [
    {
     "name": "stdout",
     "output_type": "stream",
     "text": [
      "Answer is : 120\n"
     ]
    }
   ],
   "source": [
    "def factR(n):\n",
    "    if n==1:\n",
    "        return n\n",
    "    else:\n",
    "        return n*factR(n-1)\n",
    "n1=int(input(\"Enter num:\"))\n",
    "print(\"Answer is :\",factR(n1))"
   ]
  },
  {
   "cell_type": "markdown",
   "metadata": {},
   "source": [
    "# 9.10 - WAP to genrate fibonaci series using a recurion."
   ]
  },
  {
   "cell_type": "code",
   "execution_count": 32,
   "metadata": {},
   "outputs": [
    {
     "name": "stdout",
     "output_type": "stream",
     "text": [
      "Answer is :\n",
      "0 1 1 2 3 5 8 13 21 34 "
     ]
    }
   ],
   "source": [
    "def fiboR(n):\n",
    "    if n<=1:\n",
    "        return n\n",
    "    else:\n",
    "        return (fiboR(n-1) + fiboR(n-2))\n",
    "n1=int(input(\"Enter num:\"))\n",
    "print(\"Answer is :\")\n",
    "for i in range(n1):\n",
    "    print(fiboR(i),end=\" \")"
   ]
  }
 ],
 "metadata": {
  "kernelspec": {
   "display_name": "Python 3",
   "language": "python",
   "name": "python3"
  },
  "language_info": {
   "codemirror_mode": {
    "name": "ipython",
    "version": 3
   },
   "file_extension": ".py",
   "mimetype": "text/x-python",
   "name": "python",
   "nbconvert_exporter": "python",
   "pygments_lexer": "ipython3",
   "version": "3.13.1"
  }
 },
 "nbformat": 4,
 "nbformat_minor": 4
}
