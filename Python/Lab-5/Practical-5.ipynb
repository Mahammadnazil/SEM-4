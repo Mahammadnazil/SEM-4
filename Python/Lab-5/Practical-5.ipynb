{
 "cells": [
  {
   "cell_type": "markdown",
   "metadata": {},
   "source": [
    "# 1. WAP to find the sum of all elements of List."
   ]
  },
  {
   "cell_type": "code",
   "execution_count": 3,
   "metadata": {},
   "outputs": [
    {
     "name": "stdout",
     "output_type": "stream",
     "text": [
      "Enter size here3\n",
      "Enter element1\n",
      "Enter element5\n",
      "Enter element1\n",
      "Sum is 7\n"
     ]
    }
   ],
   "source": [
    "n=int(input(\"Enter size here:\"))\n",
    "l1=[]\n",
    "total=0\n",
    "for i in range(n):\n",
    "    l1.append(int(input(\"Enter element:\")))\n",
    "    total+=l1[i]\n",
    "print(\"Sum is:\",total)"
   ]
  },
  {
   "cell_type": "markdown",
   "metadata": {},
   "source": [
    "# 2. WAP to find smallest and largest element from list."
   ]
  },
  {
   "cell_type": "code",
   "execution_count": 19,
   "metadata": {},
   "outputs": [
    {
     "name": "stdout",
     "output_type": "stream",
     "text": [
      "Total size here3\n",
      "Enter element :1\n",
      "Enter element :2\n",
      "Enter element :6\n",
      "Element list [1, 2, 6]\n",
      "Largest is 6\n",
      "smallest is 1\n"
     ]
    }
   ],
   "source": [
    "# manula\n",
    "n=int(input(\"Total size here:\"))\n",
    "l2=[]\n",
    "for i in range(n):\n",
    "    l2.append(int(input(\"Enter element:\")))\n",
    "for i in range(n):\n",
    "    if(i==0):\n",
    "        largest=l2[i]\n",
    "        smallest=l2[i]\n",
    "    elif(l2[i]>largest):\n",
    "        largest=l2[i]\n",
    "    elif l2[i]<smallest :\n",
    "        smallest=l2[i]\n",
    "print(\"Element list:\",l2)\n",
    "print(\"Largest is:\",largest)\n",
    "print(\"smallest is:\",smallest)"
   ]
  },
  {
   "cell_type": "code",
   "execution_count": 9,
   "metadata": {},
   "outputs": [
    {
     "name": "stdout",
     "output_type": "stream",
     "text": [
      "Total size here3\n",
      "Enter element :1\n",
      "Enter element :5\n",
      "Enter element :9\n",
      "Largest is  9\n",
      "smallest is 1\n"
     ]
    }
   ],
   "source": [
    "n=int(input(\"Total size here:\"))\n",
    "l2=[]\n",
    "for i in range(n):\n",
    "    l2.append(int(input(\"Enter element:\")))\n",
    "    largest=max(l2)\n",
    "    smallest=min(l2)\n",
    "print(\"Largest is: \",largest)\n",
    "print(\"smallest is: \",smallest)"
   ]
  },
  {
   "cell_type": "markdown",
   "metadata": {},
   "source": [
    "# 3. WAP to take list from user and split into two parts and append first part at the end of second part."
   ]
  },
  {
   "cell_type": "code",
   "execution_count": 20,
   "metadata": {},
   "outputs": [
    {
     "name": "stdout",
     "output_type": "stream",
     "text": [
      "enter size here10\n",
      "Enter element :1\n",
      "Enter element :2\n",
      "Enter element :3\n",
      "Enter element :4\n",
      "Enter element :5\n",
      "Enter element :6\n",
      "Enter element :7\n",
      "Enter element :8\n",
      "Enter element :9\n",
      "Enter element :10\n",
      "[6, 7, 8, 9, 10, 1, 2, 3, 4, 5]\n"
     ]
    }
   ],
   "source": [
    "n=int(input(\"enter size here:\"))\n",
    "l3=[]\n",
    "for i in range(n):\n",
    "     l3.append(int(input(\"Enter element:\")))\n",
    "\n",
    "        \n",
    "mid=len(l3)//2 \n",
    "l4=l3[:mid]\n",
    "l5=l3[mid:]\n",
    "l5.extend(l4)\n",
    "print(l5)"
   ]
  },
  {
   "cell_type": "markdown",
   "metadata": {},
   "source": [
    "# 4. WAP to interchange first and last element of list."
   ]
  },
  {
   "cell_type": "code",
   "execution_count": 10,
   "metadata": {},
   "outputs": [
    {
     "name": "stdout",
     "output_type": "stream",
     "text": [
      "Enter size3\n",
      "enter element1\n",
      "enter element7\n",
      "enter element9\n",
      "List is  [9, 7, 1]\n"
     ]
    }
   ],
   "source": [
    "size=int(input(\"Enter size:\"))\n",
    "l3=[]\n",
    "for i in range(n):\n",
    "    l3.append(int(input(\"enter element:\")))\n",
    "l3[0],l3[-1]=l3[-1],l3[0]\n",
    "print(\"List is: \",l3)"
   ]
  },
  {
   "cell_type": "markdown",
   "metadata": {},
   "source": [
    "# 5. WAP to reverse the list entered by user."
   ]
  },
  {
   "cell_type": "code",
   "execution_count": 11,
   "metadata": {},
   "outputs": [
    {
     "name": "stdout",
     "output_type": "stream",
     "text": [
      "Enter size here3\n",
      "enter element6\n",
      "enter element3\n",
      "enter element1\n",
      "Reverse list [1, 3, 6]\n"
     ]
    }
   ],
   "source": [
    "n=int(input(\"Enter size here:\"))\n",
    "l4=[]\n",
    "for i in range(n):\n",
    "    l4.append(int(input(\"enter element:\")))\n",
    "    rev_lst=l4[::-1]\n",
    "print(\"Reverse list:\",rev_lst)"
   ]
  },
  {
   "cell_type": "code",
   "execution_count": null,
   "metadata": {},
   "outputs": [],
   "source": []
  }
 ],
 "metadata": {
  "kernelspec": {
   "display_name": "Python 3",
   "language": "python",
   "name": "python3"
  },
  "language_info": {
   "codemirror_mode": {
    "name": "ipython",
    "version": 3
   },
   "file_extension": ".py",
   "mimetype": "text/x-python",
   "name": "python",
   "nbconvert_exporter": "python",
   "pygments_lexer": "ipython3",
   "version": "3.8.10"
  }
 },
 "nbformat": 4,
 "nbformat_minor": 4
}
