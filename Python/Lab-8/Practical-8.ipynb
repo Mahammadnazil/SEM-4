{
 "cells": [
  {
   "cell_type": "markdown",
   "id": "86e91b53-53f3-453d-b464-37cfd59bdf66",
   "metadata": {},
   "source": [
    "# 1 wap to create a dictionary  for n values and print its size"
   ]
  },
  {
   "cell_type": "code",
   "execution_count": 3,
   "id": "7217b6b9-d521-4516-93a2-1f40a292f745",
   "metadata": {},
   "outputs": [
    {
     "name": "stdout",
     "output_type": "stream",
     "text": [
      "enter size here: 2\n",
      "enter key here: jay\n",
      "enter value here: 121\n",
      "enter key here: darshan\n",
      "enter value here: 122\n"
     ]
    },
    {
     "name": "stdout",
     "output_type": "stream",
     "text": [
      "your dictionary is: {'jay': '121', 'darshan': '122'}\n",
      "size of dictionary is: 2\n"
     ]
    }
   ],
   "source": [
    "n=int(input(\"enter size here:\"))\n",
    "dic={}\n",
    "for i in range(n):\n",
    "    key=input(\"enter key here:\")\n",
    "    value=input(\"enter value here:\")\n",
    "    dic[key]=value\n",
    "print(\"your dictionary is:\",dic)\n",
    "print(\"size of dictionary is:\",len(dic))"
   ]
  },
  {
   "cell_type": "markdown",
   "id": "a96bdbf0-fe2c-4d59-bb0c-f2f39e0edbf7",
   "metadata": {},
   "source": [
    "# 2 wap to create a dictionary from string"
   ]
  },
  {
   "cell_type": "code",
   "execution_count": 5,
   "id": "5a218fcf-9f65-46e7-8107-e2c4c28bf29c",
   "metadata": {},
   "outputs": [
    {
     "name": "stdout",
     "output_type": "stream",
     "text": [
      "enter string here: hello\n"
     ]
    },
    {
     "name": "stdout",
     "output_type": "stream",
     "text": [
      "{0: 'h', 1: 'e', 2: 'l', 3: 'l', 4: 'o'}\n"
     ]
    }
   ],
   "source": [
    "n=(input(\"enter string here:\"))\n",
    "dic={}\n",
    "for i in range(len(n)):\n",
    "    dic[i]=n[i]\n",
    "print(dic)"
   ]
  },
  {
   "cell_type": "markdown",
   "id": "8c6abf8e-145c-491b-9a9e-c45cefa1e75d",
   "metadata": {},
   "source": [
    "# 3 wap to sort a dictionary by  key in ascending and descending order"
   ]
  },
  {
   "cell_type": "code",
   "execution_count": 7,
   "id": "88f4db33-eaac-4c18-8f66-e72a53b73875",
   "metadata": {},
   "outputs": [
    {
     "name": "stdout",
     "output_type": "stream",
     "text": [
      "enter size here: 2\n",
      "enter key here: 2\n",
      "enter value here: jay\n",
      "enter key here: 1\n",
      "enter value here: darshan\n"
     ]
    },
    {
     "name": "stdout",
     "output_type": "stream",
     "text": [
      "{'1': 'darshan', '2': 'jay'}\n",
      "{'2': 'jay', '1': 'darshan'}\n"
     ]
    }
   ],
   "source": [
    "n=int(input(\"enter size here:\"))\n",
    "dic={}\n",
    "for i in range(n):\n",
    "    key=input(\"enter key here:\")\n",
    "    value=input(\"enter value here:\")\n",
    "    dic[key]=value\n",
    "keys=list(dic.keys())\n",
    "keys.sort()\n",
    "dic_asc={}\n",
    "for i in keys:\n",
    "    dic_asc[i]=dic[i]\n",
    "print(dic_asc)\n",
    "\n",
    "keys.sort(reverse=True)\n",
    "dic_des={}\n",
    "for i in keys:\n",
    "    dic_des[i]=dic[i]\n",
    "print(dic_des)\n",
    "    "
   ]
  },
  {
   "cell_type": "markdown",
   "id": "125f11ee-c35a-487e-b6cd-c79f2c00bc3b",
   "metadata": {},
   "source": [
    "# 4 wap to enter a key and add a key in dictionary if it does not exist"
   ]
  },
  {
   "cell_type": "code",
   "execution_count": 4,
   "id": "b2634c22-df7a-4f7b-a238-0ba218cdd084",
   "metadata": {},
   "outputs": [
    {
     "name": "stdout",
     "output_type": "stream",
     "text": [
      "Enter How Many Items You Want To Enter In Dictionary 2\n",
      "Key 121\n",
      "Value: darshN\n",
      "Key 122\n",
      "Value: jay\n",
      "Enter new Key 121\n"
     ]
    },
    {
     "name": "stdout",
     "output_type": "stream",
     "text": [
      "This Key Is Already Exist\n",
      "{'121': 'darshN', '122': 'jay'}\n"
     ]
    }
   ],
   "source": [
    "n=int(input(\"Enter How Many Items You Want To Enter In Dictionary\"))\n",
    "dic={}\n",
    "for i in range(n):\n",
    "    key=input(\"Key\")\n",
    "    value=input(\"Value:\")\n",
    "    dic[key]=value\n",
    "key=input(\"Enter new Key\")\n",
    "if key in dic.keys():\n",
    "    print(\"This Key Is Already Exist\")\n",
    "else:\n",
    "    value=input(\"Enter New Value:\")\n",
    "    dic[key]=value\n",
    "print(dic)"
   ]
  },
  {
   "cell_type": "markdown",
   "id": "4f260fb3-02ad-446d-a8be-f8761eec0c4a",
   "metadata": {},
   "source": [
    "# 5 wap to sort a dictionary by value in ascending and descending order"
   ]
  },
  {
   "cell_type": "code",
   "execution_count": 9,
   "id": "cdb9f827-b039-4e29-8cd6-9e01c8dc6123",
   "metadata": {},
   "outputs": [
    {
     "name": "stdout",
     "output_type": "stream",
     "text": [
      "enter size here: 2\n",
      "enter key here: 121\n",
      "enter value here: jay\n",
      "enter key here: 122\n",
      "enter value here: darshan\n"
     ]
    },
    {
     "name": "stdout",
     "output_type": "stream",
     "text": [
      "Your  ascending order sorted dictionary is: {'122': 'darshan', '121': 'jay'}\n",
      "Your descending sorted dictionary is: {'121': 'jay', '122': 'darshan'}\n"
     ]
    }
   ],
   "source": [
    "n=int(input(\"enter size here:\"))\n",
    "dic={}\n",
    "for i in range(n):\n",
    "    key=input(\"enter key here:\")\n",
    "    value=input(\"enter value here:\")\n",
    "    dic[key]=value\n",
    "values=list(dic.values())\n",
    "values.sort()\n",
    "dic_asc={}\n",
    "\n",
    "for i in values:\n",
    "    for j in dic:\n",
    "        if dic[j] == i:\n",
    "            dic_asc[j]=i\n",
    "print(\"Your  ascending order sorted dictionary is:\",dic_asc)\n",
    "\n",
    "values=list(dic.values())\n",
    "values.sort(reverse=True)\n",
    "dic_des={}\n",
    "\n",
    "for i in values:\n",
    "    for j in dic:\n",
    "        if dic[j] == i:\n",
    "            dic_des[j]=i\n",
    "print(\"Your descending sorted dictionary is:\",dic_des)\n",
    "\n",
    "    "
   ]
  },
  {
   "cell_type": "markdown",
   "id": "f5878bc8-8302-4435-b68a-cdf07433bd00",
   "metadata": {},
   "source": [
    "# 6 wap to enter a key and to remove that key from dictionary if it exist"
   ]
  },
  {
   "cell_type": "code",
   "execution_count": 6,
   "id": "3b73b151-b486-4990-9697-912f60416fd3",
   "metadata": {},
   "outputs": [
    {
     "name": "stdout",
     "output_type": "stream",
     "text": [
      "Enter How Many Items You Want To Enter In Dictionary 2\n",
      "Key 121\n",
      "Value: jay\n",
      "Key 122\n",
      "Value: darshan\n",
      "Enter key which you want to remove: 123\n"
     ]
    },
    {
     "name": "stdout",
     "output_type": "stream",
     "text": [
      "This Key Is  not Exist\n",
      "{'121': 'jay', '122': 'darshan'}\n"
     ]
    }
   ],
   "source": [
    "n=int(input(\"Enter How Many Items You Want To Enter In Dictionary\"))\n",
    "dic={}\n",
    "for i in range(n):\n",
    "    key=input(\"Key\")\n",
    "    value=input(\"Value:\")\n",
    "    dic[key]=value\n",
    "key=input(\"Enter key which you want to remove:\")\n",
    "if key in dic.keys():\n",
    "    dic.pop(key)\n",
    "else:\n",
    "        print(\"This Key Is  not Exist\")\n",
    "\n",
    "print(dic)"
   ]
  },
  {
   "cell_type": "markdown",
   "id": "f172f490-4baa-4074-8b9b-4881e081dc98",
   "metadata": {},
   "source": [
    "# 7 wap to merge two dictionary given by user into one"
   ]
  },
  {
   "cell_type": "code",
   "execution_count": 3,
   "id": "7e6750c6-b88a-43ac-88e9-ba759719d320",
   "metadata": {},
   "outputs": [
    {
     "name": "stdout",
     "output_type": "stream",
     "text": [
      "Enter number of elements in dictionary:  1\n",
      "Enter key:  121\n",
      "Enter value:  jay\n"
     ]
    },
    {
     "name": "stdout",
     "output_type": "stream",
     "text": [
      "First dictionary:  {'121': 'jay'}\n"
     ]
    },
    {
     "name": "stdout",
     "output_type": "stream",
     "text": [
      "Enter number of elements in dictionary:  1\n",
      "Enter key:  122\n",
      "Enter value:  darshan\n"
     ]
    },
    {
     "name": "stdout",
     "output_type": "stream",
     "text": [
      "Second dictionary:  {'122': 'darshan'}\n",
      "Concatenated dictionary: {'121': 'jay', '122': 'darshan'}\n"
     ]
    }
   ],
   "source": [
    "dic1 = {}\n",
    "dic2 = {}\n",
    "n = int(input(\"Enter number of elements in dictionary: \"))\n",
    "for i in range(n):\n",
    "    key = input(\"Enter key: \")\n",
    "    value = input(\"Enter value: \")\n",
    "    dic1[key] = value\n",
    "print(\"First dictionary: \", dic1)\n",
    "\n",
    "n2 = int(input(\"Enter number of elements in dictionary: \"))\n",
    "for i in range(n2):\n",
    "    key = input(\"Enter key: \")\n",
    "    value = input(\"Enter value: \")\n",
    "    dic2[key] = value\n",
    "print(\"Second dictionary: \", dic2)\n",
    "\n",
    "for i in dic2:\n",
    "    dic1[i] = dic2[i]\n",
    "\n",
    "print(\"Concatenated dictionary:\",dic1)"
   ]
  },
  {
   "cell_type": "markdown",
   "id": "cfe7d72c-c779-4bca-88c4-940ca15418c3",
   "metadata": {},
   "source": [
    "# 8 wap to convert two lists into a dictionary"
   ]
  },
  {
   "cell_type": "code",
   "execution_count": 10,
   "id": "276eef9a-694f-47f0-a8a2-077d34e94d5d",
   "metadata": {},
   "outputs": [
    {
     "name": "stdout",
     "output_type": "stream",
     "text": [
      "Enter number of elements in list:  2\n",
      "Enter element:  121\n",
      "Enter element:  122\n"
     ]
    },
    {
     "name": "stdout",
     "output_type": "stream",
     "text": [
      "your first list is: [121, 122]\n"
     ]
    },
    {
     "name": "stdout",
     "output_type": "stream",
     "text": [
      "Enter element:  2\n",
      "Enter element:  3\n"
     ]
    },
    {
     "name": "stdout",
     "output_type": "stream",
     "text": [
      "your first list is: [2, 3]\n",
      "your converted dictionary is : {121: 2, 122: 3}\n"
     ]
    }
   ],
   "source": [
    "n = int(input(\"Enter number of elements in list: \"))\n",
    "lst1 = []\n",
    "for i in range(n):\n",
    "  lst1.append(int(input(\"Enter element: \")))\n",
    "print(\"your first list is:\",lst1)\n",
    "\n",
    "lst2 = []\n",
    "for i in range(n):\n",
    "  lst2.append(int(input(\"Enter element: \")))\n",
    "print(\"your second list is:\",lst2)\n",
    "dic={}\n",
    "for i in range(n):\n",
    "    dic[lst1[i]]=lst2[i]\n",
    "print(\"your converted dictionary is :\",dic)\n",
    "    \n"
   ]
  }
 ],
 "metadata": {
  "kernelspec": {
   "display_name": "Python 3 (ipykernel)",
   "language": "python",
   "name": "python3"
  },
  "language_info": {
   "codemirror_mode": {
    "name": "ipython",
    "version": 3
   },
   "file_extension": ".py",
   "mimetype": "text/x-python",
   "name": "python",
   "nbconvert_exporter": "python",
   "pygments_lexer": "ipython3",
   "version": "3.13.0"
  }
 },
 "nbformat": 4,
 "nbformat_minor": 5
}
