{
 "cells": [
  {
   "cell_type": "markdown",
   "metadata": {},
   "source": [
    "# 1 WAP to read a file named firstfile.txt"
   ]
  },
  {
   "cell_type": "code",
   "execution_count": 1,
   "metadata": {},
   "outputs": [
    {
     "name": "stdout",
     "output_type": "stream",
     "text": [
      "hello@world\n",
      "world%hello\n",
      "this is darshan_university\n",
      "python is @good\n",
      "hello google\n",
      "hiii\n",
      "hello\n"
     ]
    }
   ],
   "source": [
    "f=open(\"firstfile.txt\",'r')\n",
    "print(f.read())\n",
    "f.close()"
   ]
  },
  {
   "cell_type": "markdown",
   "metadata": {},
   "source": [
    "# 2 WAP to read the first 5 lines from the file named firstfile.txt"
   ]
  },
  {
   "cell_type": "code",
   "execution_count": 5,
   "metadata": {},
   "outputs": [
    {
     "name": "stdout",
     "output_type": "stream",
     "text": [
      "hello@world\n",
      "\n",
      "world%hello\n",
      "\n",
      "this is darshan_university\n",
      "\n",
      "python is @good\n",
      "\n",
      "hello google\n",
      "\n"
     ]
    }
   ],
   "source": [
    "f=open(\"firstfile.txt\",'r')\n",
    "for i in range(5):\n",
    "    print(f.readline())\n",
    "f.close()"
   ]
  },
  {
   "cell_type": "markdown",
   "metadata": {},
   "source": [
    "# 3 WAP to read only special character from file"
   ]
  },
  {
   "cell_type": "code",
   "execution_count": 10,
   "metadata": {},
   "outputs": [
    {
     "name": "stdout",
     "output_type": "stream",
     "text": [
      "@\n",
      "%\n",
      "_\n",
      "@\n"
     ]
    }
   ],
   "source": [
    "f=open(\"firstfile.txt\",'r')\n",
    "for i in f.read():\n",
    "    if not(i.isalnum() or i.isspace()):\n",
    "        print(i)\n",
    "f.close()"
   ]
  },
  {
   "cell_type": "markdown",
   "metadata": {},
   "source": [
    "# 4 WAP to read file line by line and store lines as list"
   ]
  },
  {
   "cell_type": "code",
   "execution_count": 9,
   "metadata": {},
   "outputs": [
    {
     "name": "stdout",
     "output_type": "stream",
     "text": [
      "['hello@world\\n', 'world%hello\\n', 'this is darshan_university\\n', 'python is @good\\n', 'hello google\\n', 'hiii\\n', 'hello']\n"
     ]
    }
   ],
   "source": [
    "f=open(\"firstfile.txt\",'r')\n",
    "print(f.readlines())\n",
    "f.close()"
   ]
  },
  {
   "cell_type": "markdown",
   "metadata": {},
   "source": [
    "# 5 WAP to write N lines in new file(newfile.txt)"
   ]
  },
  {
   "cell_type": "code",
   "execution_count": 17,
   "metadata": {},
   "outputs": [
    {
     "name": "stdout",
     "output_type": "stream",
     "text": [
      "Enter total number here5\n",
      "enter line1\n",
      "enter line3\n",
      "enter line4\n",
      "enter line5\n",
      "enter line3\n"
     ]
    }
   ],
   "source": [
    "n=int(input(\"Enter total number here\"))\n",
    "f=open(\"newfile.txt\",'w')\n",
    "for i in range(n):\n",
    "    f.write(input(\"enter line\") + \"\\n\")\n",
    "f.close()"
   ]
  },
  {
   "cell_type": "markdown",
   "metadata": {},
   "source": [
    "### 6 WAP to write 5 student records(Rollno,Name and department) in studentDetails.txt file"
   ]
  },
  {
   "cell_type": "code",
   "execution_count": 33,
   "metadata": {},
   "outputs": [
    {
     "name": "stdout",
     "output_type": "stream",
     "text": [
      "Enter Rollno :144\n",
      "Enter name :Rudra\n",
      "Enter department :computer\n",
      "Enter Rollno :158\n",
      "Enter name :Dhruv\n",
      "Enter department :computer\n",
      "Enter Rollno :123\n",
      "Enter name :Rudra\n",
      "Enter department :civil\n",
      "Enter Rollno :151\n",
      "Enter name :sinhal\n",
      "Enter department :Chemical\n",
      "Enter Rollno :145\n",
      "Enter name :yug\n",
      "Enter department :mechanical\n"
     ]
    }
   ],
   "source": [
    "f=open(\"studentDetails.txt\",'w')\n",
    "for i in range(5):\n",
    "    roll=int(input(\"Enter Rollno :\"))\n",
    "    name=input(\"Enter name :\")\n",
    "    dept=input(\"Enter department :\")\n",
    "    f.write(f\"rollno.:{roll}\\nname :{name}\\ndepartment :{dept}\\n --------------------------- \\n\")\n",
    "f.close()"
   ]
  },
  {
   "cell_type": "markdown",
   "metadata": {},
   "source": [
    "# 7 WAP to find longest word from firstfile.txt"
   ]
  },
  {
   "cell_type": "code",
   "execution_count": 32,
   "metadata": {},
   "outputs": [
    {
     "name": "stdout",
     "output_type": "stream",
     "text": [
      "largest word is; darshan_university\n"
     ]
    }
   ],
   "source": [
    "f=open(\"firstfile.txt\",'r')\n",
    "words=\" \".join(f.read().split(\"\\n\")).split()\n",
    "lword=\"\"\n",
    "for i in words :\n",
    "    if len(i)>len(words):\n",
    "        lword=i \n",
    "print(\"largest word is;\",lword)\n",
    "f.close()"
   ]
  },
  {
   "cell_type": "markdown",
   "metadata": {},
   "source": [
    "# 8 WAP to find size of firstfile.txt"
   ]
  },
  {
   "cell_type": "code",
   "execution_count": null,
   "metadata": {},
   "outputs": [],
   "source": []
  },
  {
   "cell_type": "markdown",
   "metadata": {},
   "source": [
    "# 9 WAP to  append content of studentDetails.txt by reading the student record from user"
   ]
  },
  {
   "cell_type": "code",
   "execution_count": 1,
   "metadata": {},
   "outputs": [
    {
     "name": "stdout",
     "output_type": "stream",
     "text": [
      "Enter Rollno :123\n",
      "Enter name :dsg\n",
      "Enter department :gjfg\n"
     ]
    }
   ],
   "source": [
    "f=open(\"studentDetails.txt\",'a')\n",
    "for i in range(1):\n",
    "    roll=int(input(\"Enter Rollno :\"))\n",
    "    name=input(\"Enter name :\")\n",
    "    dept=input(\"Enter department :\")\n",
    "    f.write(f\"rollno.:{roll}\\nname :{name}\\ndepartment :{dept}\\n --------------------------- \\n\")\n",
    "f.close()"
   ]
  },
  {
   "cell_type": "markdown",
   "metadata": {},
   "source": [
    "# 10 WAP to enter a file name and check it exists or not ASK for user confirmation and delete file"
   ]
  },
  {
   "cell_type": "code",
   "execution_count": null,
   "metadata": {},
   "outputs": [],
   "source": [
    "import os \n",
    "fname=input(\"Enter filename\")\n",
    "if os.path.exists(fname):\n",
    "    confirm=input(\"Delete the file(Yes/No)\").lower()\n",
    "    if confirm==\"yes\":\n",
    "        os.remove(fname)\n",
    "else :\n",
    "    print(\"Does not exits\")"
   ]
  }
 ],
 "metadata": {
  "kernelspec": {
   "display_name": "Python 3 (ipykernel)",
   "language": "python",
   "name": "python3"
  },
  "language_info": {
   "codemirror_mode": {
    "name": "ipython",
    "version": 3
   },
   "file_extension": ".py",
   "mimetype": "text/x-python",
   "name": "python",
   "nbconvert_exporter": "python",
   "pygments_lexer": "ipython3",
   "version": "3.13.1"
  }
 },
 "nbformat": 4,
 "nbformat_minor": 4
}
